{
  "cells": [
    {
      "cell_type": "code",
      "execution_count": null,
      "id": "3df648f5",
      "metadata": {
        "id": "3df648f5"
      },
      "outputs": [],
      "source": [
        "import numpy as np\n",
        "import pandas as pd\n",
        "import matplotlib.pyplot as plt\n",
        "import seaborn as sns\n",
        "import warnings\n",
        "warnings.filterwarnings('ignore')\n",
        "import os"
      ]
    },
    {
      "cell_type": "code",
      "execution_count": null,
      "id": "d723383c",
      "metadata": {
        "id": "d723383c"
      },
      "outputs": [],
      "source": [
        "# Reading dataset\n",
        "col = ['Id', 'Entity', 'Sentiment', 'Content']\n",
        "df_train = pd.read_csv(r\"C:\\Users\\hp\\Desktop\\Prodigy\\Prodigy_DS_04\\Data\\twitter_training.csv\", names = col)"
      ]
    },
    {
      "cell_type": "code",
      "execution_count": null,
      "id": "c0a768fa",
      "metadata": {
        "id": "c0a768fa"
      },
      "outputs": [],
      "source": [
        "df_test = pd.read_csv(r\"C:\\Users\\hp\\Desktop\\Prodigy\\Prodigy_DS_04\\Data\\twitter_validation.csv\", names = col)"
      ]
    },
    {
      "cell_type": "code",
      "execution_count": null,
      "id": "be00501a",
      "metadata": {
        "id": "be00501a",
        "outputId": "b5f31470-787d-43d2-ab89-55148fb9d38a"
      },
      "outputs": [
        {
          "data": {
            "text/html": [
              "<div>\n",
              "<style scoped>\n",
              "    .dataframe tbody tr th:only-of-type {\n",
              "        vertical-align: middle;\n",
              "    }\n",
              "\n",
              "    .dataframe tbody tr th {\n",
              "        vertical-align: top;\n",
              "    }\n",
              "\n",
              "    .dataframe thead th {\n",
              "        text-align: right;\n",
              "    }\n",
              "</style>\n",
              "<table border=\"1\" class=\"dataframe\">\n",
              "  <thead>\n",
              "    <tr style=\"text-align: right;\">\n",
              "      <th></th>\n",
              "      <th>Id</th>\n",
              "      <th>Entity</th>\n",
              "      <th>Sentiment</th>\n",
              "      <th>Content</th>\n",
              "    </tr>\n",
              "  </thead>\n",
              "  <tbody>\n",
              "    <tr>\n",
              "      <th>0</th>\n",
              "      <td>2401</td>\n",
              "      <td>Borderlands</td>\n",
              "      <td>Positive</td>\n",
              "      <td>im getting on borderlands and i will murder yo...</td>\n",
              "    </tr>\n",
              "    <tr>\n",
              "      <th>1</th>\n",
              "      <td>2401</td>\n",
              "      <td>Borderlands</td>\n",
              "      <td>Positive</td>\n",
              "      <td>I am coming to the borders and I will kill you...</td>\n",
              "    </tr>\n",
              "    <tr>\n",
              "      <th>2</th>\n",
              "      <td>2401</td>\n",
              "      <td>Borderlands</td>\n",
              "      <td>Positive</td>\n",
              "      <td>im getting on borderlands and i will kill you ...</td>\n",
              "    </tr>\n",
              "    <tr>\n",
              "      <th>3</th>\n",
              "      <td>2401</td>\n",
              "      <td>Borderlands</td>\n",
              "      <td>Positive</td>\n",
              "      <td>im coming on borderlands and i will murder you...</td>\n",
              "    </tr>\n",
              "    <tr>\n",
              "      <th>4</th>\n",
              "      <td>2401</td>\n",
              "      <td>Borderlands</td>\n",
              "      <td>Positive</td>\n",
              "      <td>im getting on borderlands 2 and i will murder ...</td>\n",
              "    </tr>\n",
              "    <tr>\n",
              "      <th>...</th>\n",
              "      <td>...</td>\n",
              "      <td>...</td>\n",
              "      <td>...</td>\n",
              "      <td>...</td>\n",
              "    </tr>\n",
              "    <tr>\n",
              "      <th>74677</th>\n",
              "      <td>9200</td>\n",
              "      <td>Nvidia</td>\n",
              "      <td>Positive</td>\n",
              "      <td>Just realized that the Windows partition of my...</td>\n",
              "    </tr>\n",
              "    <tr>\n",
              "      <th>74678</th>\n",
              "      <td>9200</td>\n",
              "      <td>Nvidia</td>\n",
              "      <td>Positive</td>\n",
              "      <td>Just realized that my Mac window partition is ...</td>\n",
              "    </tr>\n",
              "    <tr>\n",
              "      <th>74679</th>\n",
              "      <td>9200</td>\n",
              "      <td>Nvidia</td>\n",
              "      <td>Positive</td>\n",
              "      <td>Just realized the windows partition of my Mac ...</td>\n",
              "    </tr>\n",
              "    <tr>\n",
              "      <th>74680</th>\n",
              "      <td>9200</td>\n",
              "      <td>Nvidia</td>\n",
              "      <td>Positive</td>\n",
              "      <td>Just realized between the windows partition of...</td>\n",
              "    </tr>\n",
              "    <tr>\n",
              "      <th>74681</th>\n",
              "      <td>9200</td>\n",
              "      <td>Nvidia</td>\n",
              "      <td>Positive</td>\n",
              "      <td>Just like the windows partition of my Mac is l...</td>\n",
              "    </tr>\n",
              "  </tbody>\n",
              "</table>\n",
              "<p>74682 rows × 4 columns</p>\n",
              "</div>"
            ],
            "text/plain": [
              "         Id       Entity Sentiment  \\\n",
              "0      2401  Borderlands  Positive   \n",
              "1      2401  Borderlands  Positive   \n",
              "2      2401  Borderlands  Positive   \n",
              "3      2401  Borderlands  Positive   \n",
              "4      2401  Borderlands  Positive   \n",
              "...     ...          ...       ...   \n",
              "74677  9200       Nvidia  Positive   \n",
              "74678  9200       Nvidia  Positive   \n",
              "74679  9200       Nvidia  Positive   \n",
              "74680  9200       Nvidia  Positive   \n",
              "74681  9200       Nvidia  Positive   \n",
              "\n",
              "                                                 Content  \n",
              "0      im getting on borderlands and i will murder yo...  \n",
              "1      I am coming to the borders and I will kill you...  \n",
              "2      im getting on borderlands and i will kill you ...  \n",
              "3      im coming on borderlands and i will murder you...  \n",
              "4      im getting on borderlands 2 and i will murder ...  \n",
              "...                                                  ...  \n",
              "74677  Just realized that the Windows partition of my...  \n",
              "74678  Just realized that my Mac window partition is ...  \n",
              "74679  Just realized the windows partition of my Mac ...  \n",
              "74680  Just realized between the windows partition of...  \n",
              "74681  Just like the windows partition of my Mac is l...  \n",
              "\n",
              "[74682 rows x 4 columns]"
            ]
          },
          "execution_count": 4,
          "metadata": {},
          "output_type": "execute_result"
        }
      ],
      "source": [
        "df_train"
      ]
    },
    {
      "cell_type": "code",
      "execution_count": null,
      "id": "b9521642",
      "metadata": {
        "id": "b9521642",
        "outputId": "c456817d-e001-4e01-ec67-50c7cee4112b"
      },
      "outputs": [
        {
          "data": {
            "text/plain": [
              "(74682, 4)"
            ]
          },
          "execution_count": 6,
          "metadata": {},
          "output_type": "execute_result"
        }
      ],
      "source": [
        "df_train.shape"
      ]
    },
    {
      "cell_type": "code",
      "execution_count": null,
      "id": "d9962f86",
      "metadata": {
        "id": "d9962f86",
        "outputId": "e8e52813-4235-42f6-89d7-813144c2f371"
      },
      "outputs": [
        {
          "data": {
            "text/plain": [
              "Index(['Id', 'Entity', 'Sentiment', 'Content'], dtype='object')"
            ]
          },
          "execution_count": 7,
          "metadata": {},
          "output_type": "execute_result"
        }
      ],
      "source": [
        "df_train.columns"
      ]
    },
    {
      "cell_type": "code",
      "execution_count": null,
      "id": "887dda76",
      "metadata": {
        "id": "887dda76",
        "outputId": "65ae18a4-795a-4438-80b7-75f113e36d65"
      },
      "outputs": [
        {
          "name": "stdout",
          "output_type": "stream",
          "text": [
            "<class 'pandas.core.frame.DataFrame'>\n",
            "RangeIndex: 74682 entries, 0 to 74681\n",
            "Data columns (total 4 columns):\n",
            " #   Column     Non-Null Count  Dtype \n",
            "---  ------     --------------  ----- \n",
            " 0   Id         74682 non-null  int64 \n",
            " 1   Entity     74682 non-null  object\n",
            " 2   Sentiment  74682 non-null  object\n",
            " 3   Content    73996 non-null  object\n",
            "dtypes: int64(1), object(3)\n",
            "memory usage: 2.3+ MB\n"
          ]
        }
      ],
      "source": [
        "df_train.info()"
      ]
    },
    {
      "cell_type": "code",
      "execution_count": null,
      "id": "5ed98461",
      "metadata": {
        "id": "5ed98461",
        "outputId": "8fc74e53-f7eb-479d-a3de-bece57eeed76"
      },
      "outputs": [
        {
          "data": {
            "text/plain": [
              "Id            int64\n",
              "Entity       object\n",
              "Sentiment    object\n",
              "Content      object\n",
              "dtype: object"
            ]
          },
          "execution_count": 9,
          "metadata": {},
          "output_type": "execute_result"
        }
      ],
      "source": [
        "df_train.dtypes"
      ]
    },
    {
      "cell_type": "markdown",
      "id": "5f7d2a98",
      "metadata": {
        "id": "5f7d2a98"
      },
      "source": [
        "# Data Cleaning"
      ]
    },
    {
      "cell_type": "code",
      "execution_count": null,
      "id": "ba8b57f1",
      "metadata": {
        "id": "ba8b57f1",
        "outputId": "80cf7124-57e2-45d0-9484-e3c37acb1867"
      },
      "outputs": [
        {
          "data": {
            "text/plain": [
              "Id             0\n",
              "Entity         0\n",
              "Sentiment      0\n",
              "Content      686\n",
              "dtype: int64"
            ]
          },
          "execution_count": 10,
          "metadata": {},
          "output_type": "execute_result"
        }
      ],
      "source": [
        "df_train.isnull().sum()"
      ]
    },
    {
      "cell_type": "code",
      "execution_count": null,
      "id": "8e10612f",
      "metadata": {
        "id": "8e10612f"
      },
      "outputs": [],
      "source": [
        "df_train.dropna(subset = ['Content'], inplace = True)"
      ]
    },
    {
      "cell_type": "code",
      "execution_count": null,
      "id": "6054cdf5",
      "metadata": {
        "id": "6054cdf5",
        "outputId": "d8a53ece-9d25-4e2c-87c4-0bcad9a375c4"
      },
      "outputs": [
        {
          "data": {
            "text/plain": [
              "(73996, 4)"
            ]
          },
          "execution_count": 12,
          "metadata": {},
          "output_type": "execute_result"
        }
      ],
      "source": [
        "df_train.shape"
      ]
    },
    {
      "cell_type": "code",
      "execution_count": null,
      "id": "b4c243b3",
      "metadata": {
        "id": "b4c243b3",
        "outputId": "9253bfac-2982-4748-d5dc-ef1bdf27d482"
      },
      "outputs": [
        {
          "data": {
            "text/plain": [
              "array(['Positive', 'Neutral', 'Negative', 'Irrelevant'], dtype=object)"
            ]
          },
          "execution_count": 14,
          "metadata": {},
          "output_type": "execute_result"
        }
      ],
      "source": [
        "df_train.Sentiment.unique()"
      ]
    },
    {
      "cell_type": "code",
      "execution_count": null,
      "id": "a278fafb",
      "metadata": {
        "id": "a278fafb"
      },
      "outputs": [],
      "source": [
        "df_train.Sentiment=df_train.Sentiment.replace('Irrelevant' , 'Neutral')\n",
        "df_test.Sentiment=df_test.Sentiment.replace('Irrelevant' , 'Neutral')"
      ]
    },
    {
      "cell_type": "code",
      "execution_count": null,
      "id": "671514d3",
      "metadata": {
        "id": "671514d3",
        "outputId": "def47fb9-5c0f-4533-c550-39c79df1d2a9"
      },
      "outputs": [
        {
          "data": {
            "text/plain": [
              "array(['Positive', 'Neutral', 'Negative'], dtype=object)"
            ]
          },
          "execution_count": 16,
          "metadata": {},
          "output_type": "execute_result"
        }
      ],
      "source": [
        "df_train.Sentiment.unique()"
      ]
    },
    {
      "cell_type": "code",
      "execution_count": null,
      "id": "843b4de0",
      "metadata": {
        "id": "843b4de0",
        "outputId": "7d8e1abc-124c-49ae-f54a-7b6f065fcf9f"
      },
      "outputs": [
        {
          "data": {
            "text/plain": [
              "array(['Neutral', 'Negative', 'Positive'], dtype=object)"
            ]
          },
          "execution_count": 17,
          "metadata": {},
          "output_type": "execute_result"
        }
      ],
      "source": [
        "df_test.Sentiment.unique()"
      ]
    },
    {
      "cell_type": "markdown",
      "id": "8bdd62d3",
      "metadata": {
        "id": "8bdd62d3"
      },
      "source": [
        "# Exploratory Data Analysis"
      ]
    },
    {
      "cell_type": "markdown",
      "id": "1183dcfe",
      "metadata": {
        "id": "1183dcfe"
      },
      "source": [
        "## Sentiment"
      ]
    },
    {
      "cell_type": "code",
      "execution_count": null,
      "id": "ded4d4de",
      "metadata": {
        "id": "ded4d4de",
        "outputId": "5ecbe01c-b203-494d-f048-2a263ecaa402"
      },
      "outputs": [
        {
          "data": {
            "text/plain": [
              "Neutral     30983\n",
              "Negative    22358\n",
              "Positive    20655\n",
              "Name: Sentiment, dtype: int64"
            ]
          },
          "execution_count": 18,
          "metadata": {},
          "output_type": "execute_result"
        }
      ],
      "source": [
        "sentiment_count = df_train.Sentiment.value_counts()\n",
        "sentiment_count"
      ]
    },
    {
      "cell_type": "code",
      "execution_count": null,
      "id": "7dffda82",
      "metadata": {
        "id": "7dffda82",
        "outputId": "fc6ea2e8-0951-4c13-d517-f12ae12620ba"
      },
      "outputs": [
        {
          "data": {
            "image/png": "[encoded data removed]",
            "text/plain": [
              "<Figure size 640x480 with 1 Axes>"
            ]
          },
          "metadata": {},
          "output_type": "display_data"
        }
      ],
      "source": [
        "y = ['Neutral' , 'Negative' , 'Positive']\n",
        "plt.pie(sentiment_count , labels = y, autopct = '%0.1f%%' )\n",
        "circle = plt.Circle((0,0),0.4, facecolor = 'white')\n",
        "plt.gca().add_patch(circle)\n",
        "plt.legend(bbox_to_anchor = (1.05, 1), loc = 'upper left')\n",
        "plt.show()"
      ]
    },
    {
      "cell_type": "code",
      "execution_count": null,
      "id": "194c57af",
      "metadata": {
        "id": "194c57af",
        "outputId": "6e0287bc-8bdd-4ede-c192-20db7477aae4"
      },
      "outputs": [
        {
          "data": {
            "text/plain": [
              "array(['Borderlands', 'CallOfDutyBlackopsColdWar', 'Amazon', 'Overwatch',\n",
              "       'Xbox(Xseries)', 'NBA2K', 'Dota2', 'PlayStation5(PS5)',\n",
              "       'WorldOfCraft', 'CS-GO', 'Google', 'AssassinsCreed', 'ApexLegends',\n",
              "       'LeagueOfLegends', 'Fortnite', 'Microsoft', 'Hearthstone',\n",
              "       'Battlefield', 'PlayerUnknownsBattlegrounds(PUBG)', 'Verizon',\n",
              "       'HomeDepot', 'FIFA', 'RedDeadRedemption(RDR)', 'CallOfDuty',\n",
              "       'TomClancysRainbowSix', 'Facebook', 'GrandTheftAuto(GTA)',\n",
              "       'MaddenNFL', 'johnson&johnson', 'Cyberpunk2077',\n",
              "       'TomClancysGhostRecon', 'Nvidia'], dtype=object)"
            ]
          },
          "execution_count": 20,
          "metadata": {},
          "output_type": "execute_result"
        }
      ],
      "source": [
        "df_train.Entity.unique()"
      ]
    },
    {
      "cell_type": "code",
      "execution_count": null,
      "id": "a1241d7a",
      "metadata": {
        "id": "a1241d7a",
        "outputId": "e6ac6b40-6d33-45cd-fe79-53af4284b9f0"
      },
      "outputs": [
        {
          "data": {
            "text/plain": [
              "MaddenNFL                            2377\n",
              "LeagueOfLegends                      2377\n",
              "CallOfDuty                           2376\n",
              "Verizon                              2365\n",
              "TomClancysRainbowSix                 2364\n",
              "Facebook                             2362\n",
              "Microsoft                            2361\n",
              "Dota2                                2359\n",
              "WorldOfCraft                         2357\n",
              "ApexLegends                          2353\n",
              "NBA2K                                2343\n",
              "CallOfDutyBlackopsColdWar            2343\n",
              "FIFA                                 2324\n",
              "johnson&johnson                      2324\n",
              "TomClancysGhostRecon                 2321\n",
              "Battlefield                          2316\n",
              "Overwatch                            2316\n",
              "GrandTheftAuto(GTA)                  2293\n",
              "HomeDepot                            2292\n",
              "PlayStation5(PS5)                    2291\n",
              "Hearthstone                          2286\n",
              "CS-GO                                2284\n",
              "Xbox(Xseries)                        2283\n",
              "Borderlands                          2280\n",
              "Amazon                               2276\n",
              "Google                               2274\n",
              "Nvidia                               2271\n",
              "Cyberpunk2077                        2262\n",
              "RedDeadRedemption(RDR)               2249\n",
              "Fortnite                             2249\n",
              "PlayerUnknownsBattlegrounds(PUBG)    2234\n",
              "AssassinsCreed                       2234\n",
              "Name: Entity, dtype: int64"
            ]
          },
          "execution_count": 21,
          "metadata": {},
          "output_type": "execute_result"
        }
      ],
      "source": [
        "Entity_count = df_train.Entity.value_counts()\n",
        "Entity_count"
      ]
    },
    {
      "cell_type": "code",
      "execution_count": null,
      "id": "35991341",
      "metadata": {
        "id": "35991341"
      },
      "outputs": [],
      "source": [
        "Entity_sort = Entity_count.sort_values(ascending = False)"
      ]
    },
    {
      "cell_type": "code",
      "execution_count": null,
      "id": "afeb00df",
      "metadata": {
        "id": "afeb00df",
        "outputId": "37065eec-d1c0-4b59-8d26-c11bf5e96eb3"
      },
      "outputs": [
        {
          "data": {
            "text/plain": [
              "MaddenNFL               2377\n",
              "LeagueOfLegends         2377\n",
              "CallOfDuty              2376\n",
              "Verizon                 2365\n",
              "TomClancysRainbowSix    2364\n",
              "Facebook                2362\n",
              "Microsoft               2361\n",
              "Dota2                   2359\n",
              "WorldOfCraft            2357\n",
              "ApexLegends             2353\n",
              "Name: Entity, dtype: int64"
            ]
          },
          "execution_count": 23,
          "metadata": {},
          "output_type": "execute_result"
        }
      ],
      "source": [
        "Entity_top10 = Entity_sort.head(10)\n",
        "Entity_top10"
      ]
    },
    {
      "cell_type": "code",
      "execution_count": null,
      "id": "b80935de",
      "metadata": {
        "id": "b80935de"
      },
      "outputs": [],
      "source": [
        "Entity_index = Entity_top10.index"
      ]
    },
    {
      "cell_type": "code",
      "execution_count": null,
      "id": "66654130",
      "metadata": {
        "id": "66654130",
        "outputId": "7dc473eb-d156-4643-b9c8-a6a5a6f1c286"
      },
      "outputs": [
        {
          "data": {
            "image/png": "[encoded data removed]",
            "text/plain": [
              "<Figure size 1300x500 with 1 Axes>"
            ]
          },
          "metadata": {},
          "output_type": "display_data"
        }
      ],
      "source": [
        "plt.figure(figsize=(13,5))\n",
        "\n",
        "x=['ApexLegends' , 'WorldOfCraft' , 'Dota2' , 'Microsoft' , 'Facebook' , 'TomClancysRainbowSix' , 'Verizon' , 'CallOfDuty' , 'LeagueOfLegends' , 'MaddenNFL']\n",
        "y=[2353,2357,2359,2361,2362,2364,2365,2367,2377,2377]\n",
        "\n",
        "plt.bar( x , y , alpha=0.7 , color='#A2625D')\n",
        "\n",
        "for i,v in enumerate(y):\n",
        "    plt.text(i,v,str(v),ha='center',weight='bold' )\n",
        "\n",
        "plt.xticks(rotation=45)\n",
        "plt.xlabel('Entity')\n",
        "plt.ylabel('Number of Post in twitter')\n",
        "plt.show()"
      ]
    },
    {
      "cell_type": "code",
      "execution_count": null,
      "id": "8ac89110",
      "metadata": {
        "id": "8ac89110",
        "outputId": "9358e1ed-35bf-4bde-ec89-12288e4de71c"
      },
      "outputs": [
        {
          "data": {
            "text/plain": [
              "MaddenNFL          2377\n",
              "LeagueOfLegends    2377\n",
              "CallOfDuty         2376\n",
              "Name: Entity, dtype: int64"
            ]
          },
          "execution_count": 26,
          "metadata": {},
          "output_type": "execute_result"
        }
      ],
      "source": [
        "Entity_top3_df=Entity_sort.head(3)\n",
        "Entity_top3_df"
      ]
    },
    {
      "cell_type": "code",
      "execution_count": null,
      "id": "08923514",
      "metadata": {
        "id": "08923514",
        "outputId": "9aa5743e-3056-402c-bc58-0421dc6b4e87"
      },
      "outputs": [
        {
          "data": {
            "text/plain": [
              "['MaddenNFL', 'LeagueOfLegends', 'CallOfDuty']"
            ]
          },
          "execution_count": 27,
          "metadata": {},
          "output_type": "execute_result"
        }
      ],
      "source": [
        "Entity_top3=Entity_top3_df.index.tolist()\n",
        "Entity_top3"
      ]
    },
    {
      "cell_type": "code",
      "execution_count": null,
      "id": "7f26f24c",
      "metadata": {
        "id": "7f26f24c",
        "outputId": "3b6ce269-2889-4299-8d6c-090a03803691"
      },
      "outputs": [
        {
          "data": {
            "text/plain": [
              "Entity           Sentiment\n",
              "CallOfDuty       Negative      883\n",
              "                 Neutral      1047\n",
              "                 Positive      446\n",
              "LeagueOfLegends  Negative      632\n",
              "                 Neutral      1130\n",
              "                 Positive      615\n",
              "MaddenNFL        Negative     1694\n",
              "                 Neutral       287\n",
              "                 Positive      396\n",
              "Name: Sentiment, dtype: int64"
            ]
          },
          "execution_count": 28,
          "metadata": {},
          "output_type": "execute_result"
        }
      ],
      "source": [
        "sentiment_by_entity=df_train.loc[df_train['Entity'].isin(Entity_top3)].groupby('Entity')['Sentiment'].value_counts().sort_index()\n",
        "sentiment_by_entity"
      ]
    },
    {
      "cell_type": "code",
      "execution_count": null,
      "id": "6178bc13",
      "metadata": {
        "id": "6178bc13",
        "outputId": "94560770-3952-46ce-d6bb-c4ce0ead336a"
      },
      "outputs": [
        {
          "data": {
            "text/plain": [
              "<matplotlib.legend.Legend at 0x233c2c31f70>"
            ]
          },
          "execution_count": 29,
          "metadata": {},
          "output_type": "execute_result"
        },
        {
          "data": {
            "image/png": "[encoded data removed]",
            "text/plain": [
              "<Figure size 1000x500 with 3 Axes>"
            ]
          },
          "metadata": {},
          "output_type": "display_data"
        }
      ],
      "source": [
        "plt.figure(figsize=(10,5))\n",
        "\n",
        "y=['Neutral' , 'Negative' , 'Positive']\n",
        "color=['#9C6383' , '#839C63' , '#63839C']\n",
        "\n",
        "plt.subplot(1,3,1)\n",
        "plt.pie(sentiment_by_entity[:3] , labels=y , autopct='%0.1f%%' , textprops={'fontsize':10} , colors=color)\n",
        "\n",
        "plt.subplot(1,3,2)\n",
        "plt.pie(sentiment_by_entity[3:6] , labels=y , autopct='%0.1f%%' , textprops={'fontsize':10} , colors=color)\n",
        "\n",
        "plt.subplot(1,3,3)\n",
        "plt.pie(sentiment_by_entity[6:] , labels=y , autopct='%0.1f%%' , textprops={'fontsize':10} , colors=color)\n",
        "\n",
        "plt.legend(bbox_to_anchor=(1.05, 1), loc='upper left' , fontsize=\"10\")"
      ]
    },
    {
      "cell_type": "markdown",
      "id": "72329c4e",
      "metadata": {
        "id": "72329c4e"
      },
      "source": [
        "# Model Training"
      ]
    },
    {
      "cell_type": "code",
      "execution_count": null,
      "id": "be289a9d",
      "metadata": {
        "id": "be289a9d",
        "outputId": "a057718c-8a0f-4200-d2bb-4c37068a8483"
      },
      "outputs": [
        {
          "data": {
            "text/html": [
              "<div>\n",
              "<style scoped>\n",
              "    .dataframe tbody tr th:only-of-type {\n",
              "        vertical-align: middle;\n",
              "    }\n",
              "\n",
              "    .dataframe tbody tr th {\n",
              "        vertical-align: top;\n",
              "    }\n",
              "\n",
              "    .dataframe thead th {\n",
              "        text-align: right;\n",
              "    }\n",
              "</style>\n",
              "<table border=\"1\" class=\"dataframe\">\n",
              "  <thead>\n",
              "    <tr style=\"text-align: right;\">\n",
              "      <th></th>\n",
              "      <th>Id</th>\n",
              "      <th>Entity</th>\n",
              "      <th>Sentiment</th>\n",
              "      <th>Content</th>\n",
              "    </tr>\n",
              "  </thead>\n",
              "  <tbody>\n",
              "    <tr>\n",
              "      <th>0</th>\n",
              "      <td>2401</td>\n",
              "      <td>Borderlands</td>\n",
              "      <td>Positive</td>\n",
              "      <td>im getting on borderlands and i will murder yo...</td>\n",
              "    </tr>\n",
              "    <tr>\n",
              "      <th>1</th>\n",
              "      <td>2401</td>\n",
              "      <td>Borderlands</td>\n",
              "      <td>Positive</td>\n",
              "      <td>I am coming to the borders and I will kill you...</td>\n",
              "    </tr>\n",
              "    <tr>\n",
              "      <th>2</th>\n",
              "      <td>2401</td>\n",
              "      <td>Borderlands</td>\n",
              "      <td>Positive</td>\n",
              "      <td>im getting on borderlands and i will kill you ...</td>\n",
              "    </tr>\n",
              "    <tr>\n",
              "      <th>3</th>\n",
              "      <td>2401</td>\n",
              "      <td>Borderlands</td>\n",
              "      <td>Positive</td>\n",
              "      <td>im coming on borderlands and i will murder you...</td>\n",
              "    </tr>\n",
              "    <tr>\n",
              "      <th>4</th>\n",
              "      <td>2401</td>\n",
              "      <td>Borderlands</td>\n",
              "      <td>Positive</td>\n",
              "      <td>im getting on borderlands 2 and i will murder ...</td>\n",
              "    </tr>\n",
              "    <tr>\n",
              "      <th>...</th>\n",
              "      <td>...</td>\n",
              "      <td>...</td>\n",
              "      <td>...</td>\n",
              "      <td>...</td>\n",
              "    </tr>\n",
              "    <tr>\n",
              "      <th>74677</th>\n",
              "      <td>9200</td>\n",
              "      <td>Nvidia</td>\n",
              "      <td>Positive</td>\n",
              "      <td>Just realized that the Windows partition of my...</td>\n",
              "    </tr>\n",
              "    <tr>\n",
              "      <th>74678</th>\n",
              "      <td>9200</td>\n",
              "      <td>Nvidia</td>\n",
              "      <td>Positive</td>\n",
              "      <td>Just realized that my Mac window partition is ...</td>\n",
              "    </tr>\n",
              "    <tr>\n",
              "      <th>74679</th>\n",
              "      <td>9200</td>\n",
              "      <td>Nvidia</td>\n",
              "      <td>Positive</td>\n",
              "      <td>Just realized the windows partition of my Mac ...</td>\n",
              "    </tr>\n",
              "    <tr>\n",
              "      <th>74680</th>\n",
              "      <td>9200</td>\n",
              "      <td>Nvidia</td>\n",
              "      <td>Positive</td>\n",
              "      <td>Just realized between the windows partition of...</td>\n",
              "    </tr>\n",
              "    <tr>\n",
              "      <th>74681</th>\n",
              "      <td>9200</td>\n",
              "      <td>Nvidia</td>\n",
              "      <td>Positive</td>\n",
              "      <td>Just like the windows partition of my Mac is l...</td>\n",
              "    </tr>\n",
              "  </tbody>\n",
              "</table>\n",
              "<p>73996 rows × 4 columns</p>\n",
              "</div>"
            ],
            "text/plain": [
              "         Id       Entity Sentiment  \\\n",
              "0      2401  Borderlands  Positive   \n",
              "1      2401  Borderlands  Positive   \n",
              "2      2401  Borderlands  Positive   \n",
              "3      2401  Borderlands  Positive   \n",
              "4      2401  Borderlands  Positive   \n",
              "...     ...          ...       ...   \n",
              "74677  9200       Nvidia  Positive   \n",
              "74678  9200       Nvidia  Positive   \n",
              "74679  9200       Nvidia  Positive   \n",
              "74680  9200       Nvidia  Positive   \n",
              "74681  9200       Nvidia  Positive   \n",
              "\n",
              "                                                 Content  \n",
              "0      im getting on borderlands and i will murder yo...  \n",
              "1      I am coming to the borders and I will kill you...  \n",
              "2      im getting on borderlands and i will kill you ...  \n",
              "3      im coming on borderlands and i will murder you...  \n",
              "4      im getting on borderlands 2 and i will murder ...  \n",
              "...                                                  ...  \n",
              "74677  Just realized that the Windows partition of my...  \n",
              "74678  Just realized that my Mac window partition is ...  \n",
              "74679  Just realized the windows partition of my Mac ...  \n",
              "74680  Just realized between the windows partition of...  \n",
              "74681  Just like the windows partition of my Mac is l...  \n",
              "\n",
              "[73996 rows x 4 columns]"
            ]
          },
          "execution_count": 30,
          "metadata": {},
          "output_type": "execute_result"
        }
      ],
      "source": [
        "df_train"
      ]
    },
    {
      "cell_type": "code",
      "execution_count": null,
      "id": "f8a5d611",
      "metadata": {
        "id": "f8a5d611"
      },
      "outputs": [],
      "source": [
        "df_train.drop(['Id'], axis = 1, inplace = True)"
      ]
    },
    {
      "cell_type": "code",
      "execution_count": null,
      "id": "b9eb5898",
      "metadata": {
        "id": "b9eb5898"
      },
      "outputs": [],
      "source": [
        "df_test.drop(['Id'], axis = 1, inplace = True)"
      ]
    },
    {
      "cell_type": "code",
      "execution_count": null,
      "id": "94d18ac0",
      "metadata": {
        "id": "94d18ac0"
      },
      "outputs": [],
      "source": [
        "#train test split\n",
        "X_train = df_train.drop(['Sentiment'] , axis = 1)\n",
        "X_test = df_test.drop(['Sentiment'] , axis = 1)\n",
        "y_train = df_train['Sentiment']\n",
        "y_test = df_test['Sentiment']"
      ]
    },
    {
      "cell_type": "code",
      "execution_count": null,
      "id": "06592a5d",
      "metadata": {
        "id": "06592a5d",
        "outputId": "2598c6ac-15e4-4d1e-a1ef-f456d939fd9f"
      },
      "outputs": [
        {
          "data": {
            "text/plain": [
              "array(['Positive', 'Neutral', 'Negative'], dtype=object)"
            ]
          },
          "execution_count": 39,
          "metadata": {},
          "output_type": "execute_result"
        }
      ],
      "source": [
        "df_train.Sentiment.unique()"
      ]
    },
    {
      "cell_type": "code",
      "execution_count": null,
      "id": "79e2b79c",
      "metadata": {
        "id": "79e2b79c"
      },
      "outputs": [],
      "source": [
        "#count the no of words in a sentence\n",
        "from sklearn.feature_extraction.text import CountVectorizer"
      ]
    },
    {
      "cell_type": "code",
      "execution_count": null,
      "id": "b10df841",
      "metadata": {
        "id": "b10df841"
      },
      "outputs": [],
      "source": [
        "v = CountVectorizer()\n",
        "X_train_count = v.fit_transform(X_train.Content)"
      ]
    },
    {
      "cell_type": "code",
      "execution_count": null,
      "id": "8b76df1f",
      "metadata": {
        "id": "8b76df1f"
      },
      "outputs": [],
      "source": [
        "#label Encoding\n",
        "from sklearn.preprocessing import LabelEncoder\n",
        "le = LabelEncoder()\n",
        "y_train = le.fit_transform(y_train)\n",
        "y_test = le.fit_transform(y_test)"
      ]
    },
    {
      "cell_type": "code",
      "execution_count": null,
      "id": "36f78b72",
      "metadata": {
        "id": "36f78b72",
        "outputId": "9398ed00-c836-4f88-fe4d-00588e39fb8f"
      },
      "outputs": [
        {
          "data": {
            "text/plain": [
              "array([2, 2, 2, ..., 2, 2, 2])"
            ]
          },
          "execution_count": 43,
          "metadata": {},
          "output_type": "execute_result"
        }
      ],
      "source": [
        "y_train"
      ]
    },
    {
      "cell_type": "code",
      "execution_count": null,
      "id": "63ade380",
      "metadata": {
        "id": "63ade380"
      },
      "outputs": [],
      "source": [
        "X_train.drop(['Entity'],axis = 1,inplace = True)\n",
        "X_test.drop(['Entity'],axis = 1,inplace = True)"
      ]
    },
    {
      "cell_type": "code",
      "execution_count": null,
      "id": "4b8b6593",
      "metadata": {
        "id": "4b8b6593",
        "outputId": "8e5de0a3-ebf5-492d-85f0-67191b9af43c"
      },
      "outputs": [
        {
          "data": {
            "text/plain": [
              "MultinomialNB()"
            ]
          },
          "execution_count": 45,
          "metadata": {},
          "output_type": "execute_result"
        }
      ],
      "source": [
        "#model\n",
        "from sklearn.naive_bayes import MultinomialNB\n",
        "model=MultinomialNB()\n",
        "model.fit(X_train_count,y_train)"
      ]
    },
    {
      "cell_type": "code",
      "execution_count": null,
      "id": "a1b1c954",
      "metadata": {
        "id": "a1b1c954",
        "outputId": "9b7a4802-c6e8-4305-9957-de07b95d2fc7"
      },
      "outputs": [
        {
          "data": {
            "text/plain": [
              "array([[0, 0, 0, ..., 0, 0, 0],\n",
              "       [0, 0, 0, ..., 0, 0, 0],\n",
              "       [0, 0, 0, ..., 0, 0, 0],\n",
              "       ...,\n",
              "       [0, 0, 0, ..., 0, 0, 0],\n",
              "       [0, 0, 0, ..., 0, 0, 0],\n",
              "       [0, 0, 0, ..., 0, 0, 0]], dtype=int64)"
            ]
          },
          "execution_count": 46,
          "metadata": {},
          "output_type": "execute_result"
        }
      ],
      "source": [
        "X_test_count=v.transform(X_test.Content)\n",
        "X_test_count.toarray()"
      ]
    },
    {
      "cell_type": "code",
      "execution_count": null,
      "id": "646aee37",
      "metadata": {
        "id": "646aee37",
        "outputId": "46031b34-18a4-409b-88d0-fa4ae460099f"
      },
      "outputs": [
        {
          "data": {
            "text/plain": [
              "(1000, 31062)"
            ]
          },
          "execution_count": 47,
          "metadata": {},
          "output_type": "execute_result"
        }
      ],
      "source": [
        "X_test_count.shape"
      ]
    },
    {
      "cell_type": "code",
      "execution_count": null,
      "id": "5f35a9dd",
      "metadata": {
        "id": "5f35a9dd",
        "outputId": "25612dae-2b3f-480c-cd1c-8b46aee23e93"
      },
      "outputs": [
        {
          "data": {
            "text/plain": [
              "0.846"
            ]
          },
          "execution_count": 48,
          "metadata": {},
          "output_type": "execute_result"
        }
      ],
      "source": [
        "# score\n",
        "model.score(X_test_count, y_test)"
      ]
    },
    {
      "cell_type": "code",
      "execution_count": null,
      "id": "27c98467",
      "metadata": {
        "id": "27c98467"
      },
      "outputs": [],
      "source": []
    }
  ],
  "metadata": {
    "kernelspec": {
      "display_name": "Python 3 (ipykernel)",
      "language": "python",
      "name": "python3"
    },
    "language_info": {
      "codemirror_mode": {
        "name": "ipython",
        "version": 3
      },
      "file_extension": ".py",
      "mimetype": "text/x-python",
      "name": "python",
      "nbconvert_exporter": "python",
      "pygments_lexer": "ipython3",
      "version": "3.9.13"
    },
    "colab": {
      "provenance": []
    }
  },
  "nbformat": 4,
  "nbformat_minor": 5
}